{
 "cells": [
  {
   "cell_type": "code",
   "execution_count": 37,
   "id": "9ebdabf6",
   "metadata": {},
   "outputs": [
    {
     "data": {
      "text/plain": [
       "'C:\\\\Users\\\\LENOVO'"
      ]
     },
     "execution_count": 37,
     "metadata": {},
     "output_type": "execute_result"
    }
   ],
   "source": [
    "#Memanggil fungsi\n",
    "import pandas as pd\n",
    "import numpy as np\n",
    "import seaborn as sns\n",
    "from scipy import stats\n",
    "import os\n",
    "os.getcwd()"
   ]
  },
  {
   "cell_type": "code",
   "execution_count": 3,
   "id": "3a00b497",
   "metadata": {},
   "outputs": [
    {
     "data": {
      "text/html": [
       "<div>\n",
       "<style scoped>\n",
       "    .dataframe tbody tr th:only-of-type {\n",
       "        vertical-align: middle;\n",
       "    }\n",
       "\n",
       "    .dataframe tbody tr th {\n",
       "        vertical-align: top;\n",
       "    }\n",
       "\n",
       "    .dataframe thead th {\n",
       "        text-align: right;\n",
       "    }\n",
       "</style>\n",
       "<table border=\"1\" class=\"dataframe\">\n",
       "  <thead>\n",
       "    <tr style=\"text-align: right;\">\n",
       "      <th></th>\n",
       "      <th>SEQN</th>\n",
       "      <th>MCQ010</th>\n",
       "      <th>MCQ025</th>\n",
       "      <th>MCQ035</th>\n",
       "      <th>MCQ040</th>\n",
       "      <th>MCQ050</th>\n",
       "      <th>AGQ030</th>\n",
       "      <th>MCQ053</th>\n",
       "      <th>MCQ080</th>\n",
       "      <th>MCQ02</th>\n",
       "      <th>...</th>\n",
       "      <th>DMDHREDU</th>\n",
       "      <th>DMDHRMAR</th>\n",
       "      <th>DMDHSEDU</th>\n",
       "      <th>WTINT2YR</th>\n",
       "      <th>WTMEC2YR</th>\n",
       "      <th>SDMVPSU</th>\n",
       "      <th>SDMVSTRA</th>\n",
       "      <th>INDHHIN2</th>\n",
       "      <th>INDFMIN2</th>\n",
       "      <th>INDFMPIR</th>\n",
       "    </tr>\n",
       "  </thead>\n",
       "  <tbody>\n",
       "    <tr>\n",
       "      <th>0</th>\n",
       "      <td>83732</td>\n",
       "      <td>2.0</td>\n",
       "      <td>NaN</td>\n",
       "      <td>NaN</td>\n",
       "      <td>NaN</td>\n",
       "      <td>NaN</td>\n",
       "      <td>NaN</td>\n",
       "      <td>2.0</td>\n",
       "      <td>1.0</td>\n",
       "      <td>2.0</td>\n",
       "      <td>...</td>\n",
       "      <td>5.0</td>\n",
       "      <td>1.0</td>\n",
       "      <td>3.0</td>\n",
       "      <td>134671.37040</td>\n",
       "      <td>135629.50740</td>\n",
       "      <td>1</td>\n",
       "      <td>125</td>\n",
       "      <td>10.0</td>\n",
       "      <td>10.0</td>\n",
       "      <td>4.39</td>\n",
       "    </tr>\n",
       "    <tr>\n",
       "      <th>1</th>\n",
       "      <td>83733</td>\n",
       "      <td>2.0</td>\n",
       "      <td>NaN</td>\n",
       "      <td>NaN</td>\n",
       "      <td>NaN</td>\n",
       "      <td>NaN</td>\n",
       "      <td>NaN</td>\n",
       "      <td>2.0</td>\n",
       "      <td>2.0</td>\n",
       "      <td>2.0</td>\n",
       "      <td>...</td>\n",
       "      <td>3.0</td>\n",
       "      <td>3.0</td>\n",
       "      <td>NaN</td>\n",
       "      <td>24328.56024</td>\n",
       "      <td>25282.42593</td>\n",
       "      <td>1</td>\n",
       "      <td>125</td>\n",
       "      <td>4.0</td>\n",
       "      <td>4.0</td>\n",
       "      <td>1.32</td>\n",
       "    </tr>\n",
       "    <tr>\n",
       "      <th>2</th>\n",
       "      <td>83734</td>\n",
       "      <td>1.0</td>\n",
       "      <td>60.0</td>\n",
       "      <td>1.0</td>\n",
       "      <td>2.0</td>\n",
       "      <td>2.0</td>\n",
       "      <td>1.0</td>\n",
       "      <td>2.0</td>\n",
       "      <td>1.0</td>\n",
       "      <td>2.0</td>\n",
       "      <td>...</td>\n",
       "      <td>3.0</td>\n",
       "      <td>1.0</td>\n",
       "      <td>3.0</td>\n",
       "      <td>12400.00852</td>\n",
       "      <td>12575.83882</td>\n",
       "      <td>1</td>\n",
       "      <td>131</td>\n",
       "      <td>5.0</td>\n",
       "      <td>5.0</td>\n",
       "      <td>1.51</td>\n",
       "    </tr>\n",
       "    <tr>\n",
       "      <th>3</th>\n",
       "      <td>83735</td>\n",
       "      <td>2.0</td>\n",
       "      <td>NaN</td>\n",
       "      <td>NaN</td>\n",
       "      <td>NaN</td>\n",
       "      <td>NaN</td>\n",
       "      <td>NaN</td>\n",
       "      <td>2.0</td>\n",
       "      <td>1.0</td>\n",
       "      <td>2.0</td>\n",
       "      <td>...</td>\n",
       "      <td>5.0</td>\n",
       "      <td>6.0</td>\n",
       "      <td>NaN</td>\n",
       "      <td>102717.99560</td>\n",
       "      <td>102078.63450</td>\n",
       "      <td>1</td>\n",
       "      <td>131</td>\n",
       "      <td>10.0</td>\n",
       "      <td>10.0</td>\n",
       "      <td>5.00</td>\n",
       "    </tr>\n",
       "    <tr>\n",
       "      <th>4</th>\n",
       "      <td>83736</td>\n",
       "      <td>1.0</td>\n",
       "      <td>10.0</td>\n",
       "      <td>2.0</td>\n",
       "      <td>NaN</td>\n",
       "      <td>NaN</td>\n",
       "      <td>NaN</td>\n",
       "      <td>2.0</td>\n",
       "      <td>2.0</td>\n",
       "      <td>2.0</td>\n",
       "      <td>...</td>\n",
       "      <td>4.0</td>\n",
       "      <td>3.0</td>\n",
       "      <td>NaN</td>\n",
       "      <td>17627.67498</td>\n",
       "      <td>18234.73622</td>\n",
       "      <td>2</td>\n",
       "      <td>126</td>\n",
       "      <td>7.0</td>\n",
       "      <td>7.0</td>\n",
       "      <td>1.23</td>\n",
       "    </tr>\n",
       "  </tbody>\n",
       "</table>\n",
       "<p>5 rows × 123 columns</p>\n",
       "</div>"
      ],
      "text/plain": [
       "    SEQN  MCQ010  MCQ025  MCQ035  MCQ040  MCQ050  AGQ030  MCQ053  MCQ080  \\\n",
       "0  83732     2.0     NaN     NaN     NaN     NaN     NaN     2.0     1.0   \n",
       "1  83733     2.0     NaN     NaN     NaN     NaN     NaN     2.0     2.0   \n",
       "2  83734     1.0    60.0     1.0     2.0     2.0     1.0     2.0     1.0   \n",
       "3  83735     2.0     NaN     NaN     NaN     NaN     NaN     2.0     1.0   \n",
       "4  83736     1.0    10.0     2.0     NaN     NaN     NaN     2.0     2.0   \n",
       "\n",
       "   MCQ02  ...  DMDHREDU  DMDHRMAR  DMDHSEDU      WTINT2YR      WTMEC2YR  \\\n",
       "0    2.0  ...       5.0       1.0       3.0  134671.37040  135629.50740   \n",
       "1    2.0  ...       3.0       3.0       NaN   24328.56024   25282.42593   \n",
       "2    2.0  ...       3.0       1.0       3.0   12400.00852   12575.83882   \n",
       "3    2.0  ...       5.0       6.0       NaN  102717.99560  102078.63450   \n",
       "4    2.0  ...       4.0       3.0       NaN   17627.67498   18234.73622   \n",
       "\n",
       "   SDMVPSU  SDMVSTRA  INDHHIN2  INDFMIN2  INDFMPIR  \n",
       "0        1       125      10.0      10.0      4.39  \n",
       "1        1       125       4.0       4.0      1.32  \n",
       "2        1       131       5.0       5.0      1.51  \n",
       "3        1       131      10.0      10.0      5.00  \n",
       "4        2       126       7.0       7.0      1.23  \n",
       "\n",
       "[5 rows x 123 columns]"
      ]
     },
     "execution_count": 3,
     "metadata": {},
     "output_type": "execute_result"
    }
   ],
   "source": [
    "#Memanggil data\n",
    "dataset = pd.read_csv('\\\\Users\\\\LENOVO\\\\Medical_Conditions.csv')\n",
    "dataset.head()"
   ]
  },
  {
   "cell_type": "code",
   "execution_count": 8,
   "id": "738aef7e",
   "metadata": {},
   "outputs": [
    {
     "data": {
      "text/html": [
       "<div>\n",
       "<style scoped>\n",
       "    .dataframe tbody tr th:only-of-type {\n",
       "        vertical-align: middle;\n",
       "    }\n",
       "\n",
       "    .dataframe tbody tr th {\n",
       "        vertical-align: top;\n",
       "    }\n",
       "\n",
       "    .dataframe thead th {\n",
       "        text-align: right;\n",
       "    }\n",
       "</style>\n",
       "<table border=\"1\" class=\"dataframe\">\n",
       "  <thead>\n",
       "    <tr style=\"text-align: right;\">\n",
       "      <th></th>\n",
       "      <th>SEQN</th>\n",
       "      <th>RIAGENDR</th>\n",
       "      <th>RIDAGEYR</th>\n",
       "      <th>MCQ160A</th>\n",
       "      <th>MCQ180A</th>\n",
       "      <th>MCQ195</th>\n",
       "    </tr>\n",
       "  </thead>\n",
       "  <tbody>\n",
       "    <tr>\n",
       "      <th>0</th>\n",
       "      <td>83732</td>\n",
       "      <td>1</td>\n",
       "      <td>62</td>\n",
       "      <td>1.0</td>\n",
       "      <td>40.0</td>\n",
       "      <td>1.0</td>\n",
       "    </tr>\n",
       "    <tr>\n",
       "      <th>1</th>\n",
       "      <td>83733</td>\n",
       "      <td>1</td>\n",
       "      <td>53</td>\n",
       "      <td>2.0</td>\n",
       "      <td>NaN</td>\n",
       "      <td>NaN</td>\n",
       "    </tr>\n",
       "    <tr>\n",
       "      <th>2</th>\n",
       "      <td>83734</td>\n",
       "      <td>1</td>\n",
       "      <td>78</td>\n",
       "      <td>1.0</td>\n",
       "      <td>55.0</td>\n",
       "      <td>4.0</td>\n",
       "    </tr>\n",
       "    <tr>\n",
       "      <th>3</th>\n",
       "      <td>83735</td>\n",
       "      <td>2</td>\n",
       "      <td>56</td>\n",
       "      <td>2.0</td>\n",
       "      <td>NaN</td>\n",
       "      <td>NaN</td>\n",
       "    </tr>\n",
       "    <tr>\n",
       "      <th>4</th>\n",
       "      <td>83736</td>\n",
       "      <td>2</td>\n",
       "      <td>42</td>\n",
       "      <td>1.0</td>\n",
       "      <td>10.0</td>\n",
       "      <td>9.0</td>\n",
       "    </tr>\n",
       "  </tbody>\n",
       "</table>\n",
       "</div>"
      ],
      "text/plain": [
       "    SEQN  RIAGENDR  RIDAGEYR  MCQ160A  MCQ180A  MCQ195\n",
       "0  83732         1        62      1.0     40.0     1.0\n",
       "1  83733         1        53      2.0      NaN     NaN\n",
       "2  83734         1        78      1.0     55.0     4.0\n",
       "3  83735         2        56      2.0      NaN     NaN\n",
       "4  83736         2        42      1.0     10.0     9.0"
      ]
     },
     "execution_count": 8,
     "metadata": {},
     "output_type": "execute_result"
    }
   ],
   "source": [
    "#Slicing data yang diperlukan\n",
    "#Keterangan:\n",
    "#SEQN: Respondent sequence; RIAGENDR: Gender; RIDAGEYR: Age in year screening\n",
    "#MCQ160A: Doctor vonis arthritis; MCQ180A: Age vonis arthritis; MCQ195: Type of arthritis)\n",
    "data = dataset[['SEQN','RIAGENDR','RIDAGEYR','MCQ160A','MCQ180A','MCQ195']]\n",
    "data.head()"
   ]
  },
  {
   "cell_type": "code",
   "execution_count": 85,
   "id": "22c17395",
   "metadata": {
    "scrolled": true
   },
   "outputs": [
    {
     "data": {
      "text/plain": [
       "SEQN           0\n",
       "RIAGENDR       0\n",
       "RIDAGEYR       0\n",
       "MCQ160A       11\n",
       "MCQ180A     4286\n",
       "MCQ195      4249\n",
       "dtype: int64"
      ]
     },
     "execution_count": 85,
     "metadata": {},
     "output_type": "execute_result"
    }
   ],
   "source": [
    "#Mengecek missing value\n",
    "data.isnull().sum()"
   ]
  },
  {
   "cell_type": "code",
   "execution_count": 86,
   "id": "95e7114b",
   "metadata": {},
   "outputs": [
    {
     "data": {
      "text/html": [
       "<div>\n",
       "<style scoped>\n",
       "    .dataframe tbody tr th:only-of-type {\n",
       "        vertical-align: middle;\n",
       "    }\n",
       "\n",
       "    .dataframe tbody tr th {\n",
       "        vertical-align: top;\n",
       "    }\n",
       "\n",
       "    .dataframe thead th {\n",
       "        text-align: right;\n",
       "    }\n",
       "</style>\n",
       "<table border=\"1\" class=\"dataframe\">\n",
       "  <thead>\n",
       "    <tr style=\"text-align: right;\">\n",
       "      <th></th>\n",
       "      <th>SEQN</th>\n",
       "      <th>RIAGENDR</th>\n",
       "      <th>RIDAGEYR</th>\n",
       "      <th>MCQ160A</th>\n",
       "      <th>MCQ180A</th>\n",
       "      <th>MCQ195</th>\n",
       "    </tr>\n",
       "  </thead>\n",
       "  <tbody>\n",
       "    <tr>\n",
       "      <th>0</th>\n",
       "      <td>83732</td>\n",
       "      <td>1</td>\n",
       "      <td>62</td>\n",
       "      <td>1.0</td>\n",
       "      <td>40.0</td>\n",
       "      <td>1.0</td>\n",
       "    </tr>\n",
       "    <tr>\n",
       "      <th>2</th>\n",
       "      <td>83734</td>\n",
       "      <td>1</td>\n",
       "      <td>78</td>\n",
       "      <td>1.0</td>\n",
       "      <td>55.0</td>\n",
       "      <td>4.0</td>\n",
       "    </tr>\n",
       "    <tr>\n",
       "      <th>4</th>\n",
       "      <td>83736</td>\n",
       "      <td>2</td>\n",
       "      <td>42</td>\n",
       "      <td>1.0</td>\n",
       "      <td>10.0</td>\n",
       "      <td>9.0</td>\n",
       "    </tr>\n",
       "    <tr>\n",
       "      <th>9</th>\n",
       "      <td>83747</td>\n",
       "      <td>1</td>\n",
       "      <td>46</td>\n",
       "      <td>1.0</td>\n",
       "      <td>46.0</td>\n",
       "      <td>2.0</td>\n",
       "    </tr>\n",
       "    <tr>\n",
       "      <th>10</th>\n",
       "      <td>83750</td>\n",
       "      <td>1</td>\n",
       "      <td>45</td>\n",
       "      <td>1.0</td>\n",
       "      <td>44.0</td>\n",
       "      <td>9.0</td>\n",
       "    </tr>\n",
       "  </tbody>\n",
       "</table>\n",
       "</div>"
      ],
      "text/plain": [
       "     SEQN  RIAGENDR  RIDAGEYR  MCQ160A  MCQ180A  MCQ195\n",
       "0   83732         1        62      1.0     40.0     1.0\n",
       "2   83734         1        78      1.0     55.0     4.0\n",
       "4   83736         2        42      1.0     10.0     9.0\n",
       "9   83747         1        46      1.0     46.0     2.0\n",
       "10  83750         1        45      1.0     44.0     9.0"
      ]
     },
     "execution_count": 86,
     "metadata": {},
     "output_type": "execute_result"
    }
   ],
   "source": [
    "#Penanganan missing value\n",
    "#Penghapusan data pasien yang tidak terkena arthritis\n",
    "data1 = data.dropna(subset=[\"MCQ195\"], axis=0)\n",
    "data1.head()"
   ]
  },
  {
   "cell_type": "code",
   "execution_count": 87,
   "id": "de1f0909",
   "metadata": {},
   "outputs": [
    {
     "data": {
      "text/plain": [
       "SEQN         0\n",
       "RIAGENDR     0\n",
       "RIDAGEYR     0\n",
       "MCQ160A      0\n",
       "MCQ180A     37\n",
       "MCQ195       0\n",
       "dtype: int64"
      ]
     },
     "execution_count": 87,
     "metadata": {},
     "output_type": "execute_result"
    }
   ],
   "source": [
    "#Mengecek missing value\n",
    "data1.isnull().sum()"
   ]
  },
  {
   "cell_type": "code",
   "execution_count": 88,
   "id": "35e2a704",
   "metadata": {},
   "outputs": [
    {
     "name": "stderr",
     "output_type": "stream",
     "text": [
      "C:\\Users\\LENOVO\\AppData\\Local\\Temp/ipykernel_13788/4050759658.py:5: SettingWithCopyWarning: \n",
      "A value is trying to be set on a copy of a slice from a DataFrame.\n",
      "Try using .loc[row_indexer,col_indexer] = value instead\n",
      "\n",
      "See the caveats in the documentation: https://pandas.pydata.org/pandas-docs/stable/user_guide/indexing.html#returning-a-view-versus-a-copy\n",
      "  data1[\"MCQ180A\"] = data1[\"MCQ180A\"].fillna(mean)\n"
     ]
    },
    {
     "data": {
      "text/html": [
       "<div>\n",
       "<style scoped>\n",
       "    .dataframe tbody tr th:only-of-type {\n",
       "        vertical-align: middle;\n",
       "    }\n",
       "\n",
       "    .dataframe tbody tr th {\n",
       "        vertical-align: top;\n",
       "    }\n",
       "\n",
       "    .dataframe thead th {\n",
       "        text-align: right;\n",
       "    }\n",
       "</style>\n",
       "<table border=\"1\" class=\"dataframe\">\n",
       "  <thead>\n",
       "    <tr style=\"text-align: right;\">\n",
       "      <th></th>\n",
       "      <th>SEQN</th>\n",
       "      <th>RIAGENDR</th>\n",
       "      <th>RIDAGEYR</th>\n",
       "      <th>MCQ160A</th>\n",
       "      <th>MCQ180A</th>\n",
       "      <th>MCQ195</th>\n",
       "    </tr>\n",
       "  </thead>\n",
       "  <tbody>\n",
       "    <tr>\n",
       "      <th>0</th>\n",
       "      <td>83732</td>\n",
       "      <td>1</td>\n",
       "      <td>62</td>\n",
       "      <td>1.0</td>\n",
       "      <td>40.0</td>\n",
       "      <td>1.0</td>\n",
       "    </tr>\n",
       "    <tr>\n",
       "      <th>2</th>\n",
       "      <td>83734</td>\n",
       "      <td>1</td>\n",
       "      <td>78</td>\n",
       "      <td>1.0</td>\n",
       "      <td>55.0</td>\n",
       "      <td>4.0</td>\n",
       "    </tr>\n",
       "    <tr>\n",
       "      <th>4</th>\n",
       "      <td>83736</td>\n",
       "      <td>2</td>\n",
       "      <td>42</td>\n",
       "      <td>1.0</td>\n",
       "      <td>10.0</td>\n",
       "      <td>9.0</td>\n",
       "    </tr>\n",
       "    <tr>\n",
       "      <th>9</th>\n",
       "      <td>83747</td>\n",
       "      <td>1</td>\n",
       "      <td>46</td>\n",
       "      <td>1.0</td>\n",
       "      <td>46.0</td>\n",
       "      <td>2.0</td>\n",
       "    </tr>\n",
       "    <tr>\n",
       "      <th>10</th>\n",
       "      <td>83750</td>\n",
       "      <td>1</td>\n",
       "      <td>45</td>\n",
       "      <td>1.0</td>\n",
       "      <td>44.0</td>\n",
       "      <td>9.0</td>\n",
       "    </tr>\n",
       "  </tbody>\n",
       "</table>\n",
       "</div>"
      ],
      "text/plain": [
       "     SEQN  RIAGENDR  RIDAGEYR  MCQ160A  MCQ180A  MCQ195\n",
       "0   83732         1        62      1.0     40.0     1.0\n",
       "2   83734         1        78      1.0     55.0     4.0\n",
       "4   83736         2        42      1.0     10.0     9.0\n",
       "9   83747         1        46      1.0     46.0     2.0\n",
       "10  83750         1        45      1.0     44.0     9.0"
      ]
     },
     "execution_count": 88,
     "metadata": {},
     "output_type": "execute_result"
    }
   ],
   "source": [
    "#Penanganan missing value\n",
    "#Dapat diketahui bahwa ada kemungkinan responden tidak mengisi usia saat divonis memiliki arthritis\n",
    "#Digunakan penanganan missing value dengan fungsi replace mean\n",
    "mean = data1[\"MCQ180A\"].mean()\n",
    "data1[\"MCQ180A\"] = data1[\"MCQ180A\"].fillna(mean)\n",
    "data1.head()"
   ]
  },
  {
   "cell_type": "code",
   "execution_count": 89,
   "id": "1066124a",
   "metadata": {},
   "outputs": [
    {
     "data": {
      "text/plain": [
       "SEQN        0\n",
       "RIAGENDR    0\n",
       "RIDAGEYR    0\n",
       "MCQ160A     0\n",
       "MCQ180A     0\n",
       "MCQ195      0\n",
       "dtype: int64"
      ]
     },
     "execution_count": 89,
     "metadata": {},
     "output_type": "execute_result"
    }
   ],
   "source": [
    "#Mengecek missing value\n",
    "data1.isnull().sum()"
   ]
  },
  {
   "cell_type": "code",
   "execution_count": 90,
   "id": "63e16e66",
   "metadata": {},
   "outputs": [
    {
     "name": "stderr",
     "output_type": "stream",
     "text": [
      "C:\\Users\\LENOVO\\anaconda3\\lib\\site-packages\\seaborn\\_decorators.py:36: FutureWarning: Pass the following variable as a keyword arg: x. From version 0.12, the only valid positional argument will be `data`, and passing other arguments without an explicit keyword will result in an error or misinterpretation.\n",
      "  warnings.warn(\n"
     ]
    },
    {
     "data": {
      "text/plain": [
       "<AxesSubplot:xlabel='MCQ180A'>"
      ]
     },
     "execution_count": 90,
     "metadata": {},
     "output_type": "execute_result"
    },
    {
     "data": {
      "image/png": "[encoded data removed]",
      "text/plain": [
       "<Figure size 432x288 with 1 Axes>"
      ]
     },
     "metadata": {
      "needs_background": "light"
     },
     "output_type": "display_data"
    }
   ],
   "source": [
    "#Mendeteksi data oulier di Usia\n",
    "#Box Plot Usia (MCQ180A)\n",
    "sns.boxplot(data1.MCQ180A)"
   ]
  },
  {
   "cell_type": "code",
   "execution_count": 91,
   "id": "5aaf8e49",
   "metadata": {},
   "outputs": [
    {
     "data": {
      "text/html": [
       "<div>\n",
       "<style scoped>\n",
       "    .dataframe tbody tr th:only-of-type {\n",
       "        vertical-align: middle;\n",
       "    }\n",
       "\n",
       "    .dataframe tbody tr th {\n",
       "        vertical-align: top;\n",
       "    }\n",
       "\n",
       "    .dataframe thead th {\n",
       "        text-align: right;\n",
       "    }\n",
       "</style>\n",
       "<table border=\"1\" class=\"dataframe\">\n",
       "  <thead>\n",
       "    <tr style=\"text-align: right;\">\n",
       "      <th></th>\n",
       "      <th>sub</th>\n",
       "      <th>values</th>\n",
       "    </tr>\n",
       "  </thead>\n",
       "  <tbody>\n",
       "    <tr>\n",
       "      <th>0</th>\n",
       "      <td>IQR</td>\n",
       "      <td>21.0</td>\n",
       "    </tr>\n",
       "    <tr>\n",
       "      <th>1</th>\n",
       "      <td>Upper Bound</td>\n",
       "      <td>91.5</td>\n",
       "    </tr>\n",
       "    <tr>\n",
       "      <th>2</th>\n",
       "      <td>Lower Bound</td>\n",
       "      <td>7.5</td>\n",
       "    </tr>\n",
       "    <tr>\n",
       "      <th>3</th>\n",
       "      <td>Sum Outliers</td>\n",
       "      <td>6.0</td>\n",
       "    </tr>\n",
       "  </tbody>\n",
       "</table>\n",
       "</div>"
      ],
      "text/plain": [
       "            sub  values\n",
       "0           IQR    21.0\n",
       "1   Upper Bound    91.5\n",
       "2   Lower Bound     7.5\n",
       "3  Sum Outliers     6.0"
      ]
     },
     "execution_count": 91,
     "metadata": {},
     "output_type": "execute_result"
    }
   ],
   "source": [
    "#Penanganan outlier usia (MCQ180A)\n",
    "#Metode IQR - Inter Quartile Range\n",
    "def detect_outliers(s):\n",
    "    Q1 = np.quantile(s,0.25)\n",
    "    Q3 = np.quantile(s,0.75)\n",
    "    IQR = Q3-Q1\n",
    "    upper_bound = np.quantile(s, 0.75)+(1.5*IQR)\n",
    "    lower_bound = np.quantile(s, 0.25)-(1.5*IQR)\n",
    "    f = []\n",
    "    for i in s:\n",
    "        if i > upper_bound:\n",
    "            f.append(i)\n",
    "        elif i < lower_bound:\n",
    "            f.append(i)\n",
    "    sums = len(f)\n",
    "    d = {'IQR': IQR, 'Upper Bound': upper_bound, 'Lower Bound': lower_bound, 'Sum Outliers': sums}\n",
    "    d = pd.DataFrame(d.items(),columns = ['sub','values'])\n",
    "    return d\n",
    "detect_outliers(data1.MCQ180A)"
   ]
  },
  {
   "cell_type": "code",
   "execution_count": 96,
   "id": "8170f797",
   "metadata": {
    "scrolled": true
   },
   "outputs": [
    {
     "data": {
      "text/html": [
       "<div>\n",
       "<style scoped>\n",
       "    .dataframe tbody tr th:only-of-type {\n",
       "        vertical-align: middle;\n",
       "    }\n",
       "\n",
       "    .dataframe tbody tr th {\n",
       "        vertical-align: top;\n",
       "    }\n",
       "\n",
       "    .dataframe thead th {\n",
       "        text-align: right;\n",
       "    }\n",
       "</style>\n",
       "<table border=\"1\" class=\"dataframe\">\n",
       "  <thead>\n",
       "    <tr style=\"text-align: right;\">\n",
       "      <th></th>\n",
       "      <th>SEQN</th>\n",
       "      <th>RIAGENDR</th>\n",
       "      <th>RIDAGEYR</th>\n",
       "      <th>MCQ160A</th>\n",
       "      <th>MCQ180A</th>\n",
       "      <th>MCQ195</th>\n",
       "    </tr>\n",
       "  </thead>\n",
       "  <tbody>\n",
       "    <tr>\n",
       "      <th>0</th>\n",
       "      <td>83732</td>\n",
       "      <td>1</td>\n",
       "      <td>62</td>\n",
       "      <td>1.0</td>\n",
       "      <td>40.0</td>\n",
       "      <td>1.0</td>\n",
       "    </tr>\n",
       "    <tr>\n",
       "      <th>2</th>\n",
       "      <td>83734</td>\n",
       "      <td>1</td>\n",
       "      <td>78</td>\n",
       "      <td>1.0</td>\n",
       "      <td>55.0</td>\n",
       "      <td>4.0</td>\n",
       "    </tr>\n",
       "    <tr>\n",
       "      <th>4</th>\n",
       "      <td>83736</td>\n",
       "      <td>2</td>\n",
       "      <td>42</td>\n",
       "      <td>1.0</td>\n",
       "      <td>10.0</td>\n",
       "      <td>9.0</td>\n",
       "    </tr>\n",
       "    <tr>\n",
       "      <th>9</th>\n",
       "      <td>83747</td>\n",
       "      <td>1</td>\n",
       "      <td>46</td>\n",
       "      <td>1.0</td>\n",
       "      <td>46.0</td>\n",
       "      <td>2.0</td>\n",
       "    </tr>\n",
       "    <tr>\n",
       "      <th>10</th>\n",
       "      <td>83750</td>\n",
       "      <td>1</td>\n",
       "      <td>45</td>\n",
       "      <td>1.0</td>\n",
       "      <td>44.0</td>\n",
       "      <td>9.0</td>\n",
       "    </tr>\n",
       "  </tbody>\n",
       "</table>\n",
       "</div>"
      ],
      "text/plain": [
       "     SEQN  RIAGENDR  RIDAGEYR  MCQ160A  MCQ180A  MCQ195\n",
       "0   83732         1        62      1.0     40.0     1.0\n",
       "2   83734         1        78      1.0     55.0     4.0\n",
       "4   83736         2        42      1.0     10.0     9.0\n",
       "9   83747         1        46      1.0     46.0     2.0\n",
       "10  83750         1        45      1.0     44.0     9.0"
      ]
     },
     "execution_count": 96,
     "metadata": {},
     "output_type": "execute_result"
    }
   ],
   "source": [
    "#Penanganan outlier usia (MCQ180A)\n",
    "#Penghapusan data outlier\n",
    "\n",
    "data2 = data1[data1['MCQ180A'] > 7.5]\n",
    "data2.head()"
   ]
  },
  {
   "cell_type": "code",
   "execution_count": 102,
   "id": "6eba4218",
   "metadata": {},
   "outputs": [
    {
     "name": "stdout",
     "output_type": "stream",
     "text": [
      "data asli adalah sebanyak : (5719, 123)\n",
      "data tanpa data missing sebanyak : (1470, 6)\n",
      "data akhir tanpa outlier sebanyak : (1464, 6)\n"
     ]
    }
   ],
   "source": [
    "#KESIMPULAN\n",
    "\n",
    "#Data Asli\n",
    "print(\"data asli adalah sebanyak :\", dataset.shape)\n",
    "\n",
    "#Data setelah penanganan data missing\n",
    "print(\"data tanpa data missing sebanyak :\", data1.shape)\n",
    "\n",
    "#Data setelah penanganan ouutlier\n",
    "print(\"data akhir tanpa outlier sebanyak :\", data2.shape)"
   ]
  },
  {
   "cell_type": "code",
   "execution_count": 97,
   "id": "ef16ef57",
   "metadata": {},
   "outputs": [],
   "source": [
    "#Export data hasil olahan\n",
    "df = data2\n",
    "df.to_csv(r'C:\\\\Users\\\\LENOVO\\\\Downloads\\\\TA_038_039.csv',index = False, header = True)"
   ]
  },
  {
   "cell_type": "markdown",
   "id": "d55ff606",
   "metadata": {},
   "source": [
    "#### Data sudah bisa digunakan"
   ]
  }
 ],
 "metadata": {
  "kernelspec": {
   "display_name": "Python 3 (ipykernel)",
   "language": "python",
   "name": "python3"
  },
  "language_info": {
   "codemirror_mode": {
    "name": "ipython",
    "version": 3
   },
   "file_extension": ".py",
   "mimetype": "text/x-python",
   "name": "python",
   "nbconvert_exporter": "python",
   "pygments_lexer": "ipython3",
   "version": "3.9.7"
  }
 },
 "nbformat": 4,
 "nbformat_minor": 5
}
